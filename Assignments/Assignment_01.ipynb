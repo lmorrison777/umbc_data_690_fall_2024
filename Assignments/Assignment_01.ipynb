{
  "nbformat": 4,
  "nbformat_minor": 0,
  "metadata": {
    "colab": {
      "provenance": [],
      "authorship_tag": "ABX9TyM7NwjDwHfKO0ussX6HME+o",
      "include_colab_link": true
    },
    "kernelspec": {
      "name": "python3",
      "display_name": "Python 3"
    },
    "language_info": {
      "name": "python"
    }
  },
  "cells": [
    {
      "cell_type": "markdown",
      "metadata": {
        "id": "view-in-github",
        "colab_type": "text"
      },
      "source": [
        "<a href=\"https://colab.research.google.com/github/lmorrison777/umbc_data_690_fall_2024/blob/main/Session02.ipynb\" target=\"_parent\"><img src=\"https://colab.research.google.com/assets/colab-badge.svg\" alt=\"Open In Colab\"/></a>"
      ]
    },
    {
      "cell_type": "markdown",
      "source": [
        "# UMBC Data 690 2024\n",
        "\n",
        "## Session 02"
      ],
      "metadata": {
        "id": "V-IICk6aY9b8"
      }
    },
    {
      "cell_type": "code",
      "source": [
        "import pandas as pd\n",
        "data_url = \"https://raw.githubusercontent.com/wcj365/python-stats-dataviz/master/fall2024/survey/UMBC%20DATA%20690%20FALL%202024%20DR%20WANG%20Student%20Survey.csv\"\n",
        "\n",
        "df = pd.read_csv(data_url)\n",
        "\n",
        "df.head()"
      ],
      "metadata": {
        "id": "bHrZti96bIXr"
      },
      "execution_count": null,
      "outputs": []
    },
    {
      "cell_type": "markdown",
      "source": [
        "# Step One - Load the Survey Response Data and Explore"
      ],
      "metadata": {
        "id": "yeVf1YSwzAYB"
      }
    },
    {
      "cell_type": "code",
      "source": [
        "df = pd.read_csv(data_url)\n",
        "\n",
        "df.shape\n"
      ],
      "metadata": {
        "id": "6sYhj6jgzHjB"
      },
      "execution_count": null,
      "outputs": []
    },
    {
      "cell_type": "markdown",
      "source": [
        "# Step Two - Explore Student Age"
      ],
      "metadata": {
        "id": "cUKSqfu8zMdB"
      }
    },
    {
      "cell_type": "code",
      "source": [
        "yob_list = list(df[\"8. My Birth Year\"])\n",
        "yob_list\n",
        "\n",
        "cleansed_yob_list = []\n",
        "\n",
        "\n",
        "for yob in yob_list:\n",
        "    cleansed_yob = yob[-4:]\n",
        "    cleansed_yob_list.append(cleansed_yob)\n",
        "\n",
        "cleansed_yob_list"
      ],
      "metadata": {
        "id": "izNDuABtzOny"
      },
      "execution_count": null,
      "outputs": []
    },
    {
      "cell_type": "code",
      "source": [
        "age_list = []\n",
        "\n",
        "for yob in cleansed_yob_list:\n",
        "    age = 2024 - int(yob)\n",
        "    age_list.append(age)\n",
        "\n",
        "age_list"
      ],
      "metadata": {
        "id": "ryfMhJCIz7e0"
      },
      "execution_count": null,
      "outputs": []
    },
    {
      "cell_type": "markdown",
      "source": [
        "# Step 3 - Explore Educational Background"
      ],
      "metadata": {
        "id": "Zgk0xSpL0EDg"
      }
    },
    {
      "cell_type": "code",
      "source": [
        "edu_backgrounds = list(df[\"1. My primary educational background\"]) #edu_background = education background\n",
        "edu_backgrounds\n",
        "\n",
        "set(edu_backgrounds) #this is to see the unique values in the list\n",
        "\n",
        "\n",
        "\n"
      ],
      "metadata": {
        "id": "Y_LiSNmV3juu",
        "outputId": "49ddc207-77d8-445e-da41-37c46230d4df",
        "colab": {
          "base_uri": "https://localhost:8080/"
        }
      },
      "execution_count": 19,
      "outputs": [
        {
          "output_type": "execute_result",
          "data": {
            "text/plain": [
              "{'Criminal Justice with some Software Engineering courses',\n",
              " 'STEM (Science, Technology, Engineering, Math)',\n",
              " 'Social Science (History, Philosophy, Education, etc. )'}"
            ]
          },
          "metadata": {},
          "execution_count": 19
        }
      ]
    },
    {
      "cell_type": "code",
      "source": [
        "#This definitely isn't the best way to do this but it's what I could figure out\n",
        "criminal_justice = edu_backgrounds.count(\"Criminal Justice with some Software Engineering courses\")\n",
        "social_science = edu_backgrounds.count(\"Social Science (History, Philosophy, Education, etc. )\")\n",
        "stem = edu_backgrounds.count(\"STEM (Science, Technology, Engineering, Math)\")\n",
        "print(f\"The following number of students have these academic backgrounds:\")\n",
        "print(f\"Social science: {social_science}\")\n",
        "print(f\"Criminal Justice: {criminal_justice}\")\n",
        "print(f\"STEM: {stem}\")"
      ],
      "metadata": {
        "colab": {
          "base_uri": "https://localhost:8080/"
        },
        "id": "D4dEfp79Y_nb",
        "outputId": "717ddd31-447a-48cf-fcba-a85ba672201b"
      },
      "execution_count": 25,
      "outputs": [
        {
          "output_type": "stream",
          "name": "stdout",
          "text": [
            "The following number of students have these academic backgrounds:\n",
            "Social science: 1\n",
            "Criminal Justice: 1\n",
            "STEM: 19\n"
          ]
        }
      ]
    },
    {
      "cell_type": "markdown",
      "source": [
        "# Step 4 - Explore Job Function"
      ],
      "metadata": {
        "id": "mM-k-wajac7a"
      }
    },
    {
      "cell_type": "code",
      "source": [
        "edu_list = list(df[\"2. My primary job function\"])\n",
        "\n",
        "set(edu_list)"
      ],
      "metadata": {
        "colab": {
          "base_uri": "https://localhost:8080/"
        },
        "id": "8BvlES-jay25",
        "outputId": "35c4d598-d2e3-471a-fade-e2feb7196936"
      },
      "execution_count": 27,
      "outputs": [
        {
          "output_type": "execute_result",
          "data": {
            "text/plain": [
              "{'Business/service-oriented',\n",
              " 'Full-time Student',\n",
              " 'Technology/engineering-oriented'}"
            ]
          },
          "metadata": {},
          "execution_count": 27
        }
      ]
    },
    {
      "cell_type": "code",
      "source": [
        "business = edu_list.count('Business/service-oriented')\n",
        "student = edu_list.count('Full-time Student')\n",
        "technology = edu_list.count('Technology/engineering-oriented')\n",
        "print(f\"The following number of students have these occupations:\")\n",
        "print(f\"Business/service-oriented: {business}\")\n",
        "print(f\"Full-time student: {student}\")\n",
        "print(f\"Technology/engineering-oriented: {technology}\")"
      ],
      "metadata": {
        "colab": {
          "base_uri": "https://localhost:8080/"
        },
        "id": "2ijcm7sqa5QH",
        "outputId": "7509de30-d06f-4277-ee1d-3ff33fabd855"
      },
      "execution_count": 28,
      "outputs": [
        {
          "output_type": "stream",
          "name": "stdout",
          "text": [
            "The following number of students have these occupations:\n",
            "Business/service-oriented: 2\n",
            "Full-time student: 17\n",
            "Technology/engineering-oriented: 2\n"
          ]
        }
      ]
    }
  ]
}
